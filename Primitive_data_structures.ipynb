{
  "nbformat": 4,
  "nbformat_minor": 0,
  "metadata": {
    "colab": {
      "provenance": [],
      "authorship_tag": "ABX9TyNoXx5C1pPI9aiXLVFM8TFX",
      "include_colab_link": true
    },
    "kernelspec": {
      "name": "python3",
      "display_name": "Python 3"
    },
    "language_info": {
      "name": "python"
    }
  },
  "cells": [
    {
      "cell_type": "markdown",
      "metadata": {
        "id": "view-in-github",
        "colab_type": "text"
      },
      "source": [
        "<a href=\"https://colab.research.google.com/github/Ansh-Rai/Python_and_DSA/blob/main/Primitive_data_structures.ipynb\" target=\"_parent\"><img src=\"https://colab.research.google.com/assets/colab-badge.svg\" alt=\"Open In Colab\"/></a>"
      ]
    },
    {
      "cell_type": "code",
      "execution_count": null,
      "metadata": {
        "id": "b39z_dYj7kJn"
      },
      "outputs": [],
      "source": [
        "# Data Structures\n"
      ]
    },
    {
      "cell_type": "code",
      "source": [
        "#lists\n",
        "lst=[1,'ansh',23,4]\n",
        "lst.append(5)\n",
        "lst.insert(2,'rai')\n",
        "print(lst)\n",
        "print(len(lst))\n"
      ],
      "metadata": {
        "colab": {
          "base_uri": "https://localhost:8080/"
        },
        "id": "vNj_m0Hb9EMd",
        "outputId": "36741b2e-30d8-4f26-e730-37315f60c509"
      },
      "execution_count": null,
      "outputs": [
        {
          "output_type": "stream",
          "name": "stdout",
          "text": [
            "[1, 'ansh', 'rai', 23, 4, 5]\n",
            "6\n"
          ]
        }
      ]
    },
    {
      "cell_type": "code",
      "source": [
        "del lst[3]\n",
        "print(lst)"
      ],
      "metadata": {
        "colab": {
          "base_uri": "https://localhost:8080/"
        },
        "id": "RQwFUcFy9XMZ",
        "outputId": "b45076de-8220-414f-c98e-d437ff87ab5d"
      },
      "execution_count": null,
      "outputs": [
        {
          "output_type": "stream",
          "name": "stdout",
          "text": [
            "[1, 'ansh', 'rai', 4, 5]\n"
          ]
        }
      ]
    },
    {
      "cell_type": "code",
      "source": [
        "lst.append([\"hello\",\"world\"])\n",
        "print(lst)"
      ],
      "metadata": {
        "colab": {
          "base_uri": "https://localhost:8080/"
        },
        "id": "JxBNu9ZS96wr",
        "outputId": "9b3ed7aa-b52c-45a1-80d5-cde5d888caca"
      },
      "execution_count": null,
      "outputs": [
        {
          "output_type": "stream",
          "name": "stdout",
          "text": [
            "[1, 'ansh', 'rai', 4, 5, ['hello', 'world']]\n"
          ]
        }
      ]
    },
    {
      "cell_type": "code",
      "source": [
        "lst.extend([\"hello\",\"world\"])\n",
        "print(lst)"
      ],
      "metadata": {
        "colab": {
          "base_uri": "https://localhost:8080/"
        },
        "id": "Rw6uhP7I-kx_",
        "outputId": "a08c3fdb-d30a-410b-c393-5106229478ea"
      },
      "execution_count": null,
      "outputs": [
        {
          "output_type": "stream",
          "name": "stdout",
          "text": [
            "[1, 'ansh', 'rai', 4, 5, ['hello', 'world'], 'hello', 'world', 'hello', 'world']\n"
          ]
        }
      ]
    },
    {
      "cell_type": "code",
      "source": [
        "print(\"ansh\"  not in lst)"
      ],
      "metadata": {
        "colab": {
          "base_uri": "https://localhost:8080/"
        },
        "id": "Jkyg1zrF-u-L",
        "outputId": "db4f2dd8-9c79-4703-c10d-25517bfd962b"
      },
      "execution_count": null,
      "outputs": [
        {
          "output_type": "stream",
          "name": "stdout",
          "text": [
            "False\n"
          ]
        }
      ]
    },
    {
      "cell_type": "code",
      "source": [
        "lst.reverse()\n",
        "print(lst)"
      ],
      "metadata": {
        "colab": {
          "base_uri": "https://localhost:8080/"
        },
        "id": "ItZ_4G1B-7t5",
        "outputId": "81bda737-e078-4661-ac03-cceac8beb1b8"
      },
      "execution_count": null,
      "outputs": [
        {
          "output_type": "stream",
          "name": "stdout",
          "text": [
            "['world', 'hello', 'world', 'hello', ['hello', 'world'], 5, 4, 'rai', 'ansh', 1]\n"
          ]
        }
      ]
    },
    {
      "cell_type": "code",
      "source": [
        "str=\"one,two,three,four,five\"\n",
        "lst1=str.split(',')\n",
        "print(lst1)\n",
        "print(lst1.index(\"three\"))"
      ],
      "metadata": {
        "colab": {
          "base_uri": "https://localhost:8080/"
        },
        "id": "jYZGESz9_FfQ",
        "outputId": "f6acda29-e95c-41bb-c5fd-77988ad728dc"
      },
      "execution_count": 44,
      "outputs": [
        {
          "output_type": "stream",
          "name": "stdout",
          "text": [
            "['one', 'two', 'three', 'four', 'five']\n",
            "2\n"
          ]
        }
      ]
    },
    {
      "cell_type": "code",
      "source": [
        "##tuples\n"
      ],
      "metadata": {
        "id": "Vc4qABYs_lQh"
      },
      "execution_count": null,
      "outputs": []
    },
    {
      "cell_type": "code",
      "source": [
        "tup=(1,2,3,5,True,[\"hello\",\"world\"] )\n",
        "#print(tup.index(3))\n",
        "for i in tup:\n",
        "    print(i)"
      ],
      "metadata": {
        "colab": {
          "base_uri": "https://localhost:8080/"
        },
        "id": "ajuqMmDm_1CO",
        "outputId": "615fbfe5-f08e-4fdf-f1bd-40e31bad7a2d"
      },
      "execution_count": 49,
      "outputs": [
        {
          "output_type": "stream",
          "name": "stdout",
          "text": [
            "1\n",
            "2\n",
            "3\n",
            "5\n",
            "True\n",
            "['hello', 'world']\n"
          ]
        }
      ]
    },
    {
      "cell_type": "code",
      "source": [
        "name=\"ansh\",\n",
        "print(type(name))"
      ],
      "metadata": {
        "colab": {
          "base_uri": "https://localhost:8080/"
        },
        "id": "ZgAnZTgwCQbI",
        "outputId": "ef4f3f2d-3d38-41cb-f1fd-b14c6ae3c124"
      },
      "execution_count": null,
      "outputs": [
        {
          "output_type": "stream",
          "name": "stdout",
          "text": [
            "<class 'tuple'>\n"
          ]
        }
      ]
    },
    {
      "cell_type": "code",
      "source": [
        "#Set"
      ],
      "metadata": {
        "id": "2k-LG9_DCjeB"
      },
      "execution_count": 50,
      "outputs": []
    },
    {
      "cell_type": "code",
      "source": [
        "s={1,2,3,3,4,5}\n",
        "s.add(6)\n",
        "s.update([10,11,12])\n",
        "s.remove(6)\n",
        "s.discard(10)\n",
        "print(s)"
      ],
      "metadata": {
        "colab": {
          "base_uri": "https://localhost:8080/"
        },
        "id": "3A22z3IuEJIX",
        "outputId": "8547b19d-15f7-4499-d410-8d19dec78b0b"
      },
      "execution_count": 57,
      "outputs": [
        {
          "output_type": "stream",
          "name": "stdout",
          "text": [
            "{1, 2, 3, 4, 5, 11, 12}\n"
          ]
        }
      ]
    },
    {
      "cell_type": "code",
      "source": [
        "set1={1,2,3,4,5}\n",
        "set2={3,4,5,6,7}\n",
        "print(set1.union(set2))\n",
        "print(set1.intersection(set2))\n",
        "print(set1.difference(set2))\n",
        "print(set1.symmetric_difference(set2))"
      ],
      "metadata": {
        "colab": {
          "base_uri": "https://localhost:8080/"
        },
        "id": "rqHgpU_DFE-C",
        "outputId": "488ae4a5-db77-4140-aeb6-bc688684dc64"
      },
      "execution_count": 59,
      "outputs": [
        {
          "output_type": "stream",
          "name": "stdout",
          "text": [
            "{1, 2, 3, 4, 5, 6, 7}\n",
            "{3, 4, 5}\n",
            "{1, 2}\n",
            "{1, 2, 6, 7}\n"
          ]
        }
      ]
    },
    {
      "cell_type": "code",
      "source": [
        "#Dictionaries\n",
        "my_dict={1:\"ansh\" , 2:\"data science\", 3:\"usar\"}\n",
        "my_dict[3]=\"machine learning\"\n",
        "my_dict[4]=\"AI\"\n",
        "# my_dict.pop(4)\n",
        "# print(my_dict[4])\n",
        "print(my_dict.keys())\n",
        "print(my_dict.values())"
      ],
      "metadata": {
        "colab": {
          "base_uri": "https://localhost:8080/"
        },
        "id": "ajx5pQuKFVis",
        "outputId": "02a770e8-a451-4f0e-9def-a35d71e90775"
      },
      "execution_count": 67,
      "outputs": [
        {
          "output_type": "stream",
          "name": "stdout",
          "text": [
            "dict_keys([1, 2, 3, 4])\n",
            "dict_values(['ansh', 'data science', 'machine learning', 'AI'])\n"
          ]
        }
      ]
    },
    {
      "cell_type": "code",
      "source": [
        "for i in my_dict.items():\n",
        "  print(i)"
      ],
      "metadata": {
        "colab": {
          "base_uri": "https://localhost:8080/"
        },
        "id": "dHrlqtXDHDFR",
        "outputId": "2969bcea-19cd-4dc4-f3d2-1e6ef75e6886"
      },
      "execution_count": 68,
      "outputs": [
        {
          "output_type": "stream",
          "name": "stdout",
          "text": [
            "(1, 'ansh')\n",
            "(2, 'data science')\n",
            "(3, 'machine learning')\n",
            "(4, 'AI')\n"
          ]
        }
      ]
    },
    {
      "cell_type": "code",
      "source": [
        "# string\n",
        "my_string=\"Hello World\"\n",
        "print(my_string[6])\n",
        "print(my_string*3)"
      ],
      "metadata": {
        "colab": {
          "base_uri": "https://localhost:8080/"
        },
        "id": "fGNyuro8H1Bm",
        "outputId": "fb100793-5047-4a8b-d5ff-c34413631955"
      },
      "execution_count": 74,
      "outputs": [
        {
          "output_type": "stream",
          "name": "stdout",
          "text": [
            "W\n",
            "Hello WorldHello WorldHello World\n"
          ]
        }
      ]
    },
    {
      "cell_type": "code",
      "source": [
        "lst=\"1,2,3,4,5\"\n",
        "lst2=\"and\".join(lst)\n",
        "print(lst2)\n",
        "print(type(lst2))"
      ],
      "metadata": {
        "colab": {
          "base_uri": "https://localhost:8080/"
        },
        "id": "x3ZJziyKICxi",
        "outputId": "281844fe-11d5-46db-c8f6-4d9426acbf8d"
      },
      "execution_count": 77,
      "outputs": [
        {
          "output_type": "stream",
          "name": "stdout",
          "text": [
            "1and,and2and,and3and,and4and,and5\n",
            "<class 'str'>\n"
          ]
        }
      ]
    },
    {
      "cell_type": "code",
      "source": [],
      "metadata": {
        "id": "2btoLpqvJYUj"
      },
      "execution_count": null,
      "outputs": []
    }
  ]
}