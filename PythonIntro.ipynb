{
  "nbformat": 4,
  "nbformat_minor": 0,
  "metadata": {
    "colab": {
      "provenance": [],
      "authorship_tag": "ABX9TyMMfsWQssbHZJ6+1+I8yC57",
      "include_colab_link": true
    },
    "kernelspec": {
      "name": "python3",
      "display_name": "Python 3"
    },
    "language_info": {
      "name": "python"
    }
  },
  "cells": [
    {
      "cell_type": "markdown",
      "metadata": {
        "id": "view-in-github",
        "colab_type": "text"
      },
      "source": [
        "<a href=\"https://colab.research.google.com/github/Ansh-Rai/Python_and_DSA/blob/main/PythonIntro.ipynb\" target=\"_parent\"><img src=\"https://colab.research.google.com/assets/colab-badge.svg\" alt=\"Open In Colab\"/></a>"
      ]
    },
    {
      "cell_type": "markdown",
      "source": [
        "Python-Introduction"
      ],
      "metadata": {
        "id": "QYvYvzM80wLU"
      }
    },
    {
      "cell_type": "code",
      "execution_count": null,
      "metadata": {
        "id": "mOw-xmju_JNq",
        "colab": {
          "base_uri": "https://localhost:8080/"
        },
        "outputId": "96f58269-beec-4347-8a3d-5944a8844939"
      },
      "outputs": [
        {
          "output_type": "stream",
          "name": "stdout",
          "text": [
            "5\n",
            "1\n",
            "6 0.6666666666666666 2 8 1\n"
          ]
        }
      ],
      "source": [
        "#python as calculator (arithmatic operaions)\n",
        "print(2+3)\n",
        "print(3-2)\n",
        "print(2*3,2/3,2%3,2**3,3//2)"
      ]
    },
    {
      "cell_type": "code",
      "source": [
        "#Varibles-> referes to a memory location\n",
        "x=3\n",
        "print(x)\n",
        "print(id(x))\n",
        "x=4\n",
        "id(x)"
      ],
      "metadata": {
        "colab": {
          "base_uri": "https://localhost:8080/"
        },
        "id": "a0OohtX78f37",
        "outputId": "11423dea-8798-44bc-9258-43d97fbf590c"
      },
      "execution_count": null,
      "outputs": [
        {
          "output_type": "stream",
          "name": "stdout",
          "text": [
            "3\n",
            "135287484268848\n"
          ]
        },
        {
          "output_type": "execute_result",
          "data": {
            "text/plain": [
              "135287484268880"
            ]
          },
          "metadata": {},
          "execution_count": 8
        }
      ]
    },
    {
      "cell_type": "code",
      "source": [
        "## variables  naming convention:\n",
        "#alphabets,numberes,_,cant start with number\n",
        "hello=3\n",
        "hello23=\"wow\"\n",
        "_yo=\"3.5\"\n",
        "r2d=True"
      ],
      "metadata": {
        "id": "bjJT_mmV9WAF"
      },
      "execution_count": null,
      "outputs": []
    },
    {
      "cell_type": "code",
      "source": [
        "#data types\n",
        "print(type(2))\n",
        "print(type(2.0))\n",
        "print(type(3.5))\n",
        "print(type('c'))\n",
        "print(type(\"Hello\"))\n",
        "print(type(True)) ## boolean can take True or False"
      ],
      "metadata": {
        "colab": {
          "base_uri": "https://localhost:8080/"
        },
        "id": "Xz5gAi5M-CdO",
        "outputId": "52512dc8-ee31-4e33-964f-eb3c11c59b2e"
      },
      "execution_count": null,
      "outputs": [
        {
          "output_type": "stream",
          "name": "stdout",
          "text": [
            "<class 'int'>\n",
            "<class 'float'>\n",
            "<class 'float'>\n",
            "<class 'str'>\n",
            "<class 'str'>\n",
            "<class 'bool'>\n"
          ]
        }
      ]
    },
    {
      "cell_type": "code",
      "source": [
        "#Strings\n",
        "name=\"Ansh\" # with \"\"\n",
        "name='Ansh' #wiht ''\n",
        "#concatenation:\n",
        "name=\"ansh\"+' '+\"rai\"\n",
        "name=name*3\n",
        "print(name)"
      ],
      "metadata": {
        "colab": {
          "base_uri": "https://localhost:8080/"
        },
        "id": "Vkc0SvVa-mtq",
        "outputId": "0bb033b8-5835-49eb-ba45-e2beb39134d3"
      },
      "execution_count": null,
      "outputs": [
        {
          "output_type": "stream",
          "name": "stdout",
          "text": [
            "ansh raiansh raiansh rai\n"
          ]
        }
      ]
    },
    {
      "cell_type": "code",
      "source": [
        "s=\"Hello World\"\n",
        "print(len(s))\n",
        "s[6]"
      ],
      "metadata": {
        "colab": {
          "base_uri": "https://localhost:8080/",
          "height": 53
        },
        "id": "CdjDBDHb-5iT",
        "outputId": "2350a6ac-2013-4601-c594-c565bfc73b7a"
      },
      "execution_count": null,
      "outputs": [
        {
          "output_type": "stream",
          "name": "stdout",
          "text": [
            "11\n"
          ]
        },
        {
          "output_type": "execute_result",
          "data": {
            "text/plain": [
              "'W'"
            ],
            "application/vnd.google.colaboratory.intrinsic+json": {
              "type": "string"
            }
          },
          "metadata": {},
          "execution_count": 19
        }
      ]
    },
    {
      "cell_type": "code",
      "source": [
        "#slicing\n",
        "print(s[2:8],s[2:8:2])"
      ],
      "metadata": {
        "colab": {
          "base_uri": "https://localhost:8080/"
        },
        "id": "jX2qn6f3Ah2R",
        "outputId": "c53d1b7b-046e-4dd7-81ca-8ea490925255"
      },
      "execution_count": null,
      "outputs": [
        {
          "output_type": "stream",
          "name": "stdout",
          "text": [
            "llo Wo loW\n"
          ]
        }
      ]
    },
    {
      "cell_type": "code",
      "source": [
        "print(s[8:2:-1])"
      ],
      "metadata": {
        "colab": {
          "base_uri": "https://localhost:8080/"
        },
        "id": "GHcpWKqBA33r",
        "outputId": "b51a2c3f-1715-43fe-ab46-96c121bca642"
      },
      "execution_count": null,
      "outputs": [
        {
          "output_type": "stream",
          "name": "stdout",
          "text": [
            "roW ol\n"
          ]
        }
      ]
    },
    {
      "cell_type": "code",
      "source": [
        "print(s[:8:1])"
      ],
      "metadata": {
        "colab": {
          "base_uri": "https://localhost:8080/"
        },
        "id": "aeHq83eYBUzP",
        "outputId": "3888d081-5acb-4cc7-81e1-60bc1b989f7c"
      },
      "execution_count": null,
      "outputs": [
        {
          "output_type": "stream",
          "name": "stdout",
          "text": [
            "Hello Wo\n"
          ]
        }
      ]
    },
    {
      "cell_type": "code",
      "source": [
        "print(s[: :-1])  #when start or end not specified it tries to print as long as possible"
      ],
      "metadata": {
        "colab": {
          "base_uri": "https://localhost:8080/"
        },
        "id": "atjPlFGJBhYS",
        "outputId": "fa66ea1a-82fc-4f59-8e5d-7b187c0908e5"
      },
      "execution_count": null,
      "outputs": [
        {
          "output_type": "stream",
          "name": "stdout",
          "text": [
            "dlroW olleH\n"
          ]
        }
      ]
    },
    {
      "cell_type": "code",
      "source": [
        "##escape character\n",
        "print(\"Ansh\\tRai\")\n",
        "print(\"Ansh\\nRai\")\n",
        "print(r\"Ansh\\nRai\")    # r in starting suggest raws string"
      ],
      "metadata": {
        "colab": {
          "base_uri": "https://localhost:8080/"
        },
        "id": "xJ6xCACwBoEZ",
        "outputId": "7d375e58-926a-4ed2-f988-f04cfaac24d4"
      },
      "execution_count": null,
      "outputs": [
        {
          "output_type": "stream",
          "name": "stdout",
          "text": [
            "Ansh\tRai\n",
            "Ansh\n",
            "Rai\n",
            "Ansh\\nRai\n"
          ]
        }
      ]
    },
    {
      "cell_type": "code",
      "source": [
        "b=True\n",
        "print(type(b))\n",
        "b=False\n",
        "print(type(b))"
      ],
      "metadata": {
        "colab": {
          "base_uri": "https://localhost:8080/"
        },
        "id": "Zi7A2DKsCH4V",
        "outputId": "5c5caa0d-9422-4952-8535-840350b29c76"
      },
      "execution_count": null,
      "outputs": [
        {
          "output_type": "stream",
          "name": "stdout",
          "text": [
            "<class 'bool'>\n",
            "<class 'bool'>\n"
          ]
        }
      ]
    },
    {
      "cell_type": "code",
      "source": [
        "# Type Casting  -> only compaitable data types\n",
        "f=2.456\n",
        "print(int(f))\n",
        "s='346'\n",
        "print(int(s))\n",
        "print(int(float(\"356.21\")))"
      ],
      "metadata": {
        "colab": {
          "base_uri": "https://localhost:8080/"
        },
        "id": "o5s833tAC-nt",
        "outputId": "6e783f9f-2f96-4742-b4f2-95958ae51f2e"
      },
      "execution_count": null,
      "outputs": [
        {
          "output_type": "stream",
          "name": "stdout",
          "text": [
            "2\n",
            "346\n",
            "356\n"
          ]
        }
      ]
    },
    {
      "cell_type": "code",
      "source": [
        "x=2\n",
        "x=x+2\n",
        "x+=2\n",
        "x*=2\n",
        "print(x)"
      ],
      "metadata": {
        "colab": {
          "base_uri": "https://localhost:8080/"
        },
        "id": "oh9dij81DOtz",
        "outputId": "3dc655b4-4a52-41af-f4a7-2db3c1b1ea8d"
      },
      "execution_count": null,
      "outputs": [
        {
          "output_type": "stream",
          "name": "stdout",
          "text": [
            "12\n"
          ]
        }
      ]
    },
    {
      "cell_type": "code",
      "source": [],
      "metadata": {
        "id": "-IW940pUD-BS"
      },
      "execution_count": null,
      "outputs": []
    }
  ]
}