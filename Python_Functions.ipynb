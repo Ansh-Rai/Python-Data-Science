{
  "nbformat": 4,
  "nbformat_minor": 0,
  "metadata": {
    "colab": {
      "provenance": [],
      "authorship_tag": "ABX9TyPGfMzdsVP/NAJmSjcrnGk/",
      "include_colab_link": true
    },
    "kernelspec": {
      "name": "python3",
      "display_name": "Python 3"
    },
    "language_info": {
      "name": "python"
    }
  },
  "cells": [
    {
      "cell_type": "markdown",
      "metadata": {
        "id": "view-in-github",
        "colab_type": "text"
      },
      "source": [
        "<a href=\"https://colab.research.google.com/github/Ansh-Rai/Python_and_DSA/blob/main/Python_Functions.ipynb\" target=\"_parent\"><img src=\"https://colab.research.google.com/assets/colab-badge.svg\" alt=\"Open In Colab\"/></a>"
      ]
    },
    {
      "cell_type": "code",
      "execution_count": null,
      "metadata": {
        "colab": {
          "base_uri": "https://localhost:8080/"
        },
        "id": "LLVTHP-CMkjn",
        "outputId": "db01cda2-407e-46d9-b50e-70c9dd577ed8"
      },
      "outputs": [
        {
          "output_type": "stream",
          "name": "stdout",
          "text": [
            "ab\n",
            "\n",
            "  this function give sum of two numbers \n"
          ]
        }
      ],
      "source": [
        "#functions\n",
        "def  get_sum(a,b):\n",
        "  '''\n",
        "  this function give sum of two numbers '''\n",
        "\n",
        "  return a+b\n",
        "\n",
        "print(get_sum(\"a\",\"b\"))\n",
        "print(get_sum.__doc__)"
      ]
    },
    {
      "cell_type": "code",
      "source": [
        "from typing import AnyStr\n",
        "def hcf(a,b):\n",
        "    j=min(a,b)\n",
        "    for i in range(1,j+1):\n",
        "        if a%i==0 and b%i==0:\n",
        "            ans=i\n",
        "    return ans\n",
        "print(hcf(100,25))"
      ],
      "metadata": {
        "colab": {
          "base_uri": "https://localhost:8080/"
        },
        "id": "iC3gbgcuNt2a",
        "outputId": "b554687a-fd35-4748-da3c-aba8ca411126"
      },
      "execution_count": null,
      "outputs": [
        {
          "output_type": "stream",
          "name": "stdout",
          "text": [
            "25\n"
          ]
        }
      ]
    },
    {
      "cell_type": "code",
      "source": [
        "## important inbuilt functions\n",
        "print(abs(-3.2))"
      ],
      "metadata": {
        "colab": {
          "base_uri": "https://localhost:8080/"
        },
        "id": "GgeEM2iCPtUH",
        "outputId": "803d02cd-1ae5-4c22-ba44-e3e81ed439a4"
      },
      "execution_count": null,
      "outputs": [
        {
          "output_type": "stream",
          "name": "stdout",
          "text": [
            "3.2\n"
          ]
        }
      ]
    },
    {
      "cell_type": "code",
      "source": [
        "print(all([1,2,3,0]))"
      ],
      "metadata": {
        "colab": {
          "base_uri": "https://localhost:8080/"
        },
        "id": "9sK174IpQqvG",
        "outputId": "df4fe917-7eb3-42fc-d710-48bc4ba2bf96"
      },
      "execution_count": null,
      "outputs": [
        {
          "output_type": "stream",
          "name": "stdout",
          "text": [
            "False\n"
          ]
        }
      ]
    },
    {
      "cell_type": "code",
      "source": [
        "dir(list())"
      ],
      "metadata": {
        "colab": {
          "base_uri": "https://localhost:8080/"
        },
        "id": "gEnlDoElQzyX",
        "outputId": "1e52de19-3744-4b98-9027-586c8bc6fe2d"
      },
      "execution_count": null,
      "outputs": [
        {
          "output_type": "execute_result",
          "data": {
            "text/plain": [
              "['__add__',\n",
              " '__class__',\n",
              " '__class_getitem__',\n",
              " '__contains__',\n",
              " '__delattr__',\n",
              " '__delitem__',\n",
              " '__dir__',\n",
              " '__doc__',\n",
              " '__eq__',\n",
              " '__format__',\n",
              " '__ge__',\n",
              " '__getattribute__',\n",
              " '__getitem__',\n",
              " '__gt__',\n",
              " '__hash__',\n",
              " '__iadd__',\n",
              " '__imul__',\n",
              " '__init__',\n",
              " '__init_subclass__',\n",
              " '__iter__',\n",
              " '__le__',\n",
              " '__len__',\n",
              " '__lt__',\n",
              " '__mul__',\n",
              " '__ne__',\n",
              " '__new__',\n",
              " '__reduce__',\n",
              " '__reduce_ex__',\n",
              " '__repr__',\n",
              " '__reversed__',\n",
              " '__rmul__',\n",
              " '__setattr__',\n",
              " '__setitem__',\n",
              " '__sizeof__',\n",
              " '__str__',\n",
              " '__subclasshook__',\n",
              " 'append',\n",
              " 'clear',\n",
              " 'copy',\n",
              " 'count',\n",
              " 'extend',\n",
              " 'index',\n",
              " 'insert',\n",
              " 'pop',\n",
              " 'remove',\n",
              " 'reverse',\n",
              " 'sort']"
            ]
          },
          "metadata": {},
          "execution_count": 17
        }
      ]
    },
    {
      "cell_type": "code",
      "source": [
        "divmod(9,2)"
      ],
      "metadata": {
        "colab": {
          "base_uri": "https://localhost:8080/"
        },
        "id": "afidPsLSRBSK",
        "outputId": "152dc907-086d-4ed0-dc0c-eec9daa16e7d"
      },
      "execution_count": null,
      "outputs": [
        {
          "output_type": "execute_result",
          "data": {
            "text/plain": [
              "(4, 1)"
            ]
          },
          "metadata": {},
          "execution_count": 18
        }
      ]
    },
    {
      "cell_type": "code",
      "source": [
        "numbers=[10,20,30,40]\n",
        "for id,num in enumerate(numbers,start=3):\n",
        "    print(id,num)"
      ],
      "metadata": {
        "colab": {
          "base_uri": "https://localhost:8080/"
        },
        "id": "b0SL6p0hRUKR",
        "outputId": "683f369f-45dc-48b7-efe5-935601fa85ab"
      },
      "execution_count": null,
      "outputs": [
        {
          "output_type": "stream",
          "name": "stdout",
          "text": [
            "3 10\n",
            "4 20\n",
            "5 30\n",
            "6 40\n"
          ]
        }
      ]
    },
    {
      "cell_type": "code",
      "source": [
        "def fun(var):\n",
        "    lst=['a','e','i','o','u','y']\n",
        "    for i in lst:\n",
        "        if var==i:\n",
        "            return True\n",
        "        else:\n",
        "            return False\n",
        "seq=['a','x','y','z']\n",
        "filtered=list(filter(fun,seq))\n",
        "print('The filtered letters are:')\n",
        "print(filtered)"
      ],
      "metadata": {
        "colab": {
          "base_uri": "https://localhost:8080/"
        },
        "id": "54SaT76ARqhU",
        "outputId": "cfa30947-5054-4a15-bd86-6b6bb8ca7f53"
      },
      "execution_count": null,
      "outputs": [
        {
          "output_type": "stream",
          "name": "stdout",
          "text": [
            "The filtered letters are:\n",
            "['a']\n"
          ]
        }
      ]
    },
    {
      "cell_type": "code",
      "source": [
        "def fun(var):\n",
        "    lst=['a','e','i','o','u','y']\n",
        "    for i in lst:\n",
        "        if var==i:\n",
        "            return True\n",
        "        else:\n",
        "            return False\n",
        "seq=['a','x','y','z']\n",
        "mapped=list(map(fun,seq))\n",
        "print('The mapped letters are:')\n",
        "print(mapped)"
      ],
      "metadata": {
        "colab": {
          "base_uri": "https://localhost:8080/"
        },
        "id": "-06DI18tTOL8",
        "outputId": "7ebf4e34-b148-4711-f53b-45fca012634b"
      },
      "execution_count": null,
      "outputs": [
        {
          "output_type": "stream",
          "name": "stdout",
          "text": [
            "The mapped letters are:\n",
            "[True, False, False, False]\n"
          ]
        }
      ]
    },
    {
      "cell_type": "code",
      "source": [
        "from functools import reduce\n",
        "def add(x,y):\n",
        "    return x+y\n",
        "numbers=[1,2,3,4,5]\n",
        "result=reduce(add,numbers)\n",
        "print(result)"
      ],
      "metadata": {
        "colab": {
          "base_uri": "https://localhost:8080/"
        },
        "id": "3FEO0LO2VEfu",
        "outputId": "d143b802-7b0e-4efc-f4ea-dbeced16f29f"
      },
      "execution_count": null,
      "outputs": [
        {
          "output_type": "stream",
          "name": "stdout",
          "text": [
            "15\n"
          ]
        }
      ]
    },
    {
      "cell_type": "code",
      "source": [],
      "metadata": {
        "id": "ZXzOu-_MVgkl"
      },
      "execution_count": null,
      "outputs": []
    }
  ]
}